{
  "nbformat": 4,
  "nbformat_minor": 0,
  "metadata": {
    "colab": {
      "provenance": [],
      "toc_visible": true,
      "mount_file_id": "1if1DlZeZE5Onuqe_tSx3OnL1y6oXRk2Y",
      "authorship_tag": "ABX9TyMAB01YC5/xfGbIz7vzcGkp",
      "include_colab_link": true
    },
    "kernelspec": {
      "name": "python3",
      "display_name": "Python 3"
    },
    "language_info": {
      "name": "python"
    }
  },
  "cells": [
    {
      "cell_type": "markdown",
      "metadata": {
        "id": "view-in-github",
        "colab_type": "text"
      },
      "source": [
        "<a href=\"https://colab.research.google.com/github/wonhojun/colab/blob/main/%EC%9E%90%EB%A3%8C%EA%B5%AC%EC%A1%B0_%EA%B3%BC%EC%A0%9C.ipynb\" target=\"_parent\"><img src=\"https://colab.research.google.com/assets/colab-badge.svg\" alt=\"Open In Colab\"/></a>"
      ]
    },
    {
      "cell_type": "code",
      "execution_count": null,
      "metadata": {
        "colab": {
          "base_uri": "https://localhost:8080/"
        },
        "id": "Kfm-QFe1j2fG",
        "outputId": "37896cbf-e032-4846-e9fb-2daa8ffb3cb8"
      },
      "outputs": [
        {
          "output_type": "stream",
          "name": "stdout",
          "text": [
            "숫자 입력15\n",
            "홀수\n"
          ]
        }
      ],
      "source": [
        "# 정수 하나를 입력받아 그 수가 짝수인지, 홀수인지를 판별하는 프로그램을 작성하시오.\n",
        "a=int(input(\"숫자 입력\"))\n",
        "if a%2==0:\n",
        "  print(\"짝수\")\n",
        "else:\n",
        "  print(\"홀수\")"
      ]
    },
    {
      "cell_type": "code",
      "source": [
        "# 두 정수 a, b를 입력받아 더 큰 수를 구하여 출력하는 프로그램을 작성하시오.\n",
        "a,b=map(int,input(\"두 정수 입력\").split())\n",
        "if a>b:\n",
        "  print(a)\n",
        "else:\n",
        "  print(b)"
      ],
      "metadata": {
        "id": "iyp9wuvflWJO",
        "colab": {
          "base_uri": "https://localhost:8080/"
        },
        "outputId": "8393c84f-5f90-4d06-9cf4-65b63beb40d3"
      },
      "execution_count": null,
      "outputs": [
        {
          "output_type": "stream",
          "name": "stdout",
          "text": [
            "두 정수 입력32 22\n",
            "32\n"
          ]
        }
      ]
    },
    {
      "cell_type": "code",
      "source": [
        "# 임의의 두 정수를 입력받아 큰수에서 작은 수를 뺀 결과와 나눈 결과를 출력하는 프로그램을 작성하시오.\n",
        "a,b=map(int,input(\"두 정수 입력\").split())\n",
        "if a>b:\n",
        "  print(a-b,a%b)\n",
        "else:\n",
        "  print(b-a,b%a)"
      ],
      "metadata": {
        "colab": {
          "base_uri": "https://localhost:8080/"
        },
        "id": "Cdr6be6CoT0b",
        "outputId": "a565181c-fbc1-452b-ea00-9a6c2bcd0b17"
      },
      "execution_count": null,
      "outputs": [
        {
          "output_type": "stream",
          "name": "stdout",
          "text": [
            "두 정수 입력4 6\n",
            "2 2\n"
          ]
        }
      ]
    },
    {
      "cell_type": "code",
      "source": [
        "# 임의의 정수 a를 입력받아 1~10 범위의 수이면 “OK\"를, 그렇지 않으면 ”NOK\"를 출력하시오.\n",
        "a=int(input(\"숫자 입력\"))\n",
        "if a<=10:\n",
        "  print(\"OK\")\n",
        "else:\n",
        "  print(\"NOK\")"
      ],
      "metadata": {
        "colab": {
          "base_uri": "https://localhost:8080/"
        },
        "id": "QmVAhh2MrmRj",
        "outputId": "be1307dd-280f-4146-c25a-88ea21896408"
      },
      "execution_count": null,
      "outputs": [
        {
          "output_type": "stream",
          "name": "stdout",
          "text": [
            "숫자 입력10\n",
            "OK\n"
          ]
        }
      ]
    },
    {
      "cell_type": "code",
      "source": [
        "# 임의의 정수 a를 입력받아 1이하이거나 10 이상의 수이면 “OK\"를, 그렇지 않으면 ”NOK\"를 출력.\n",
        "a=int(input(\"숫자 입력\"))\n",
        "if a<=1 or a>=10:\n",
        "  print(\"OK\")\n",
        "else:\n",
        "  print(\"NOK\")"
      ],
      "metadata": {
        "colab": {
          "base_uri": "https://localhost:8080/"
        },
        "id": "CMyS1FcXrmXC",
        "outputId": "d86cdaac-a485-4fbb-ec31-867c99b1a16c"
      },
      "execution_count": null,
      "outputs": [
        {
          "output_type": "stream",
          "name": "stdout",
          "text": [
            "숫자 입력11\n",
            "OK\n"
          ]
        }
      ]
    },
    {
      "cell_type": "code",
      "source": [
        "# 입력된 실수가 [1~10) 사이이면 입력값의 2배 값을 출력하고, 그렇지 않으면 3배 값을 출력하는 프로그램을 작성하시오. \n",
        "a=float(input(\"숫자 입력\"))\n",
        "if 1<a<10:\n",
        "  print(a*2)\n",
        "else:\n",
        "  print(a*3)"
      ],
      "metadata": {
        "colab": {
          "base_uri": "https://localhost:8080/"
        },
        "id": "Ce5WIW8bskXn",
        "outputId": "c7a2f285-571e-4947-a30a-920cbfac0bd8"
      },
      "execution_count": null,
      "outputs": [
        {
          "output_type": "stream",
          "name": "stdout",
          "text": [
            "숫자 입력11\n",
            "33.0\n"
          ]
        }
      ]
    },
    {
      "cell_type": "code",
      "source": [
        "# 임의의 문자를 입력받아 그 문자가 대문자인지 아닌지를 판별하는 프로그램을 작성하시오. \n",
        "a=input(\"문자 입력\")\n",
        "if \"A\"<=a<=\"Z\":\n",
        "  print(\"대문자\")\n",
        "else:\n",
        "  print(\"대문자 아님\")"
      ],
      "metadata": {
        "colab": {
          "base_uri": "https://localhost:8080/"
        },
        "id": "0s_mDPMouCzQ",
        "outputId": "44dfac69-b5ac-44d2-f7d3-0d4bc27643c1"
      },
      "execution_count": null,
      "outputs": [
        {
          "output_type": "stream",
          "name": "stdout",
          "text": [
            "문자 입력G\n",
            "대문자\n"
          ]
        }
      ]
    },
    {
      "cell_type": "code",
      "source": [
        "# 임의의 문자 ch를 입력받아 그 문자가 'y' 또는 'Y' 또는 개행문자(‘\\n')이면 “OK\"를, 그렇지 않으면 ”NOK\"를 출력하시오.\n",
        "ch=input(\"문자 입력\")\n",
        "if ch==\"y\" or ch==\"Y\" or ch==\"\\n\":\n",
        "  print(\"OK\")\n",
        "else:\n",
        "  print(\"NOK\")"
      ],
      "metadata": {
        "colab": {
          "base_uri": "https://localhost:8080/"
        },
        "id": "LrDHWdzPuC1e",
        "outputId": "d14cdcf7-a5b9-4661-ef1d-ea9570932e92"
      },
      "execution_count": null,
      "outputs": [
        {
          "output_type": "stream",
          "name": "stdout",
          "text": [
            "문자 입력Y\n",
            "OK\n"
          ]
        }
      ]
    },
    {
      "cell_type": "code",
      "source": [
        "# 임의의 문자를 입력받아 대문자인지, 소문자인지, 기타의 문자인지를 판별하는 프로그램을 작성하시오.\n",
        "ch=input(\"문자 입력\")\n",
        "if \"a\"<=ch<=\"z\":\n",
        "  print(\"소문자\")\n",
        "elif \"A\"<=ch<=\"Z\":\n",
        "  print(\"대문자\")\n",
        "else:\n",
        "  print(\"기타 문자\")"
      ],
      "metadata": {
        "colab": {
          "base_uri": "https://localhost:8080/"
        },
        "id": "fAJIejSkskcV",
        "outputId": "3ebec6d1-3d58-44c2-a544-e780c08a5414"
      },
      "execution_count": null,
      "outputs": [
        {
          "output_type": "stream",
          "name": "stdout",
          "text": [
            "문자 입력ㅁ\n",
            "기타 문자\n"
          ]
        }
      ]
    },
    {
      "cell_type": "code",
      "source": [
        "# 임의의 정수 a를 입력받아 [1..10] 범위의 수가 아니면 “ERROR\"를 출력하고, 1~10 범위의 수이지만 3의 배수가 아니면 “OK\"를, 그렇지 않으면 ”NOK\"를 출력하시오.\n",
        "a=int(input(\"정수 입력\"))\n",
        "if not 1<=a<=10:\n",
        "  print(\"ERROR\")\n",
        "elif 1<=a<=10 and not a%3==0:\n",
        "  print(\"OK\")\n",
        "else:\n",
        "  print(\"NOK\")"
      ],
      "metadata": {
        "colab": {
          "base_uri": "https://localhost:8080/"
        },
        "id": "0gbGzIo3wt65",
        "outputId": "87de8713-e24c-4d2b-cdb0-a0bfc2803608"
      },
      "execution_count": null,
      "outputs": [
        {
          "output_type": "stream",
          "name": "stdout",
          "text": [
            "정수 입력6\n",
            "NOK\n"
          ]
        }
      ]
    },
    {
      "cell_type": "code",
      "source": [
        "# 임의의 양의 정수 n을 입력받아 1에서 n까지의 합을 구하시오.\n",
        "n=int(input(\"양의 정수 입력\"))\n",
        "sum=0\n",
        "for i in range(1,n+1):\n",
        "  sum=sum+i\n",
        "print(sum)"
      ],
      "metadata": {
        "id": "b07ny61PxaMd",
        "colab": {
          "base_uri": "https://localhost:8080/"
        },
        "outputId": "b0641d6d-e291-42a3-f3c5-d879ee3e96a6"
      },
      "execution_count": null,
      "outputs": [
        {
          "output_type": "stream",
          "name": "stdout",
          "text": [
            "숫자 입력5\n",
            "15\n"
          ]
        }
      ]
    },
    {
      "cell_type": "code",
      "source": [
        "# 임의의 양의 정수 n을 입력받아 n!을 구하시오.\n",
        "n=int(input(\"정수 입력\"))\n",
        "sum=1\n",
        "for i in range(1,n+1,1):\n",
        "  sum *=i\n",
        "print(sum)"
      ],
      "metadata": {
        "id": "vbKsEssNxvpl",
        "colab": {
          "base_uri": "https://localhost:8080/"
        },
        "outputId": "2a44612c-01be-41a5-99e8-7e2f7671f7e3"
      },
      "execution_count": null,
      "outputs": [
        {
          "output_type": "stream",
          "name": "stdout",
          "text": [
            "정수 입력6\n",
            "720\n"
          ]
        }
      ]
    },
    {
      "cell_type": "code",
      "source": [
        "# 두 정수 a, b를 입력받아 [a, b] 사이의 홀수의 개수와 합을 구하는 프로그램을 작성하시오.\n",
        "a, b=map(int, input(\"정수 두개 입력\").split())\n",
        "sum=0\n",
        "c=0\n",
        "for i in range(a,b+1):\n",
        "  if i%2==1:\n",
        "    sum +=i\n",
        "    print(i,end =\",\")\n",
        "    c+=1\n",
        "print(\"\")\n",
        "print(c)\n",
        "print(sum)"
      ],
      "metadata": {
        "id": "PwntWFtSbO4E",
        "colab": {
          "base_uri": "https://localhost:8080/"
        },
        "outputId": "9cec3f33-e019-41d0-b715-4d7b6467bc2f"
      },
      "execution_count": null,
      "outputs": [
        {
          "output_type": "stream",
          "name": "stdout",
          "text": [
            "정수 두개 입력3 10\n",
            "3,5,7,9,\n",
            "4\n",
            "24\n"
          ]
        }
      ]
    },
    {
      "cell_type": "code",
      "source": [
        "# 100 이하의 자연수중 3의 배수이거나 5의 배수이면서 15의 배수가 아닌 수들의 합을 구하시오.\n",
        "sum=0\n",
        "for i in range(1,101): \n",
        "  if i%3==0 or i%5==0 and not i%15==0:\n",
        "    sum +=i\n",
        "print(sum)"
      ],
      "metadata": {
        "id": "uGFUHJ7vbPFD",
        "colab": {
          "base_uri": "https://localhost:8080/"
        },
        "outputId": "bc282145-adfa-4a6a-ecca-7da255acd057"
      },
      "execution_count": null,
      "outputs": [
        {
          "output_type": "stream",
          "name": "stdout",
          "text": [
            "2418\n"
          ]
        }
      ]
    },
    {
      "cell_type": "code",
      "source": [
        "# 100 이하의 임의의 양의 정수 n을 입력받아 1~100 사이에서 n의 배수와 n의 배수의 개수를 출력하시오.\n",
        "a=0\n",
        "n=int(input(\"양의 정수 입력:\"))\n",
        "for i in range(1,101):\n",
        "  if i%n==0:\n",
        "    print(i,end = \",\")\n",
        "    a+=1\n",
        "print(\"\")\n",
        "print(f\"{n}의 배수의 개수 {a}\")"
      ],
      "metadata": {
        "id": "Z7q9hy9wbPHj",
        "colab": {
          "base_uri": "https://localhost:8080/"
        },
        "outputId": "67b93246-ec0b-465d-d790-6de473e6cbe7"
      },
      "execution_count": null,
      "outputs": [
        {
          "output_type": "stream",
          "name": "stdout",
          "text": [
            "양의 정수 입력:15\n",
            "15,30,45,60,75,90,\n",
            "15의 배수의 개수 6\n"
          ]
        }
      ]
    },
    {
      "cell_type": "code",
      "source": [
        "# 1+2-3+4+5-6+7+8-9+...-99+100=?\n",
        "sum=0\n",
        "for i in range(1,101):      \n",
        "    sum+=i\n",
        "sum=sum-99\n",
        "print(sum)"
      ],
      "metadata": {
        "id": "01_kDIXUbPKq",
        "colab": {
          "base_uri": "https://localhost:8080/"
        },
        "outputId": "39e1d17e-febd-41f7-b672-a48c20eefabb"
      },
      "execution_count": null,
      "outputs": [
        {
          "output_type": "stream",
          "name": "stdout",
          "text": [
            "4951\n"
          ]
        }
      ]
    },
    {
      "cell_type": "code",
      "source": [
        "# 1+(1+2)+(1+2+3)+...+(1+2+3+...+100)=?\n",
        "sum=0\n",
        "for i in range(1,101):\n",
        "  sum+=i*(101-i)\n",
        "print(sum)"
      ],
      "metadata": {
        "id": "YWzoJOWmbPNn",
        "colab": {
          "base_uri": "https://localhost:8080/"
        },
        "outputId": "f49f7eb2-4e2e-49eb-8a7b-344589280ec7"
      },
      "execution_count": null,
      "outputs": [
        {
          "output_type": "stream",
          "name": "stdout",
          "text": [
            "171700\n"
          ]
        }
      ]
    },
    {
      "cell_type": "code",
      "source": [
        "# 5명의 학생에 대한 번호, 중간 기말 점수를 정수 값으로 입력받아 총점, 평균(소수 둘째자리까지), 학점을 구하여 출력하시오. 평균이 같은 학생은 없다고 가정.\n",
        "for i in range(5):\n",
        "  a,b,c=map(int, input(\"번호, 중간점수, 기말점수\").split())\n",
        "  q=(b+c)/2\n",
        "  if 90<=q<=100:   s=\"A\"\n",
        "  elif 80<=q<90:   s=\"B\"\n",
        "  elif 60<=q<80:   s=\"C\"\n",
        "  else:            s=\"F\"\n",
        "  print(f\"{a}번 총점 {b+c} 평균:{q} 학점{s}\")"
      ],
      "metadata": {
        "id": "cOp0ChIobbH5",
        "colab": {
          "base_uri": "https://localhost:8080/"
        },
        "outputId": "526c1f8e-cdca-4cf9-fab5-a96f1e9deda7"
      },
      "execution_count": null,
      "outputs": [
        {
          "output_type": "stream",
          "name": "stdout",
          "text": [
            "번호, 중간점수, 기말점수1 30 40\n",
            "1번 총점 70 평균:35.0 학점F\n",
            "번호, 중간점수, 기말점수2 55 45\n",
            "2번 총점 100 평균:50.0 학점F\n",
            "번호, 중간점수, 기말점수3 87 90\n",
            "3번 총점 177 평균:88.5 학점B\n",
            "번호, 중간점수, 기말점수4 88 83\n",
            "4번 총점 171 평균:85.5 학점B\n",
            "번호, 중간점수, 기말점수5 90 99\n",
            "5번 총점 189 평균:94.5 학점A\n"
          ]
        }
      ]
    },
    {
      "cell_type": "code",
      "source": [
        "# 하나의 점수를 입력받아 출력하시오. 단, 입력된 점수가 [0,100] 범위를 벗어나면 재입력 받으시오.\n",
        "a=int(input(\"점수 입력\"))\n",
        "while  not 0<=a<=100:\n",
        "  a=int(input(\"점수 입력\"))\n",
        "print(a)"
      ],
      "metadata": {
        "id": "dR3jrCzWbbST",
        "colab": {
          "base_uri": "https://localhost:8080/"
        },
        "outputId": "9a99c108-cac6-422c-9e0e-0d6a7e185437"
      },
      "execution_count": null,
      "outputs": [
        {
          "output_type": "stream",
          "name": "stdout",
          "text": [
            "점수 입력150\n",
            "점수 입력100\n",
            "100\n"
          ]
        }
      ]
    },
    {
      "cell_type": "code",
      "source": [
        "# 임의의 정수를 하나 입력받아 그 수가 소수인지를 판별하는 프로그램을 작성하시오. 소수란 1과 자기 자신 이외에는 나누어지지 않는 수를 말한다.\n",
        "a=1\n",
        "n=int(input(\"정수 입력\"))\n",
        "for i in range(2,n):\n",
        "  if n%i==0:\n",
        "    a=0\n",
        "if a==1:\n",
        "  print(\"소수입니다\")\n",
        "else:\n",
        "  print(\"소수가 아닙니다\")"
      ],
      "metadata": {
        "id": "6HhbCRPtbbc-",
        "colab": {
          "base_uri": "https://localhost:8080/"
        },
        "outputId": "da869e0c-43ca-4f6e-c91a-8f8d87379571"
      },
      "execution_count": null,
      "outputs": [
        {
          "output_type": "stream",
          "name": "stdout",
          "text": [
            "정수 입력15\n",
            "소수가 아닙니다\n"
          ]
        }
      ]
    }
  ]
}